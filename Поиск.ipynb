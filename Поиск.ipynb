{
 "cells": [
  {
   "cell_type": "markdown",
   "metadata": {
    "id": "um4yvoNCvMN8"
   },
   "source": [
    "Бинарное дерево"
   ]
  },
  {
   "cell_type": "code",
   "execution_count": 8,
   "metadata": {
    "colab": {
     "base_uri": "https://localhost:8080/"
    },
    "executionInfo": {
     "elapsed": 265,
     "status": "ok",
     "timestamp": 1681542363994,
     "user": {
      "displayName": "Sergey Simonov",
      "userId": "14094206399671235086"
     },
     "user_tz": -180
    },
    "id": "bg-nW5UqvCrT",
    "outputId": "f2d4cf4c-2326-47a3-9ea6-d2ccc1d1b38d"
   },
   "outputs": [
    {
     "name": "stdout",
     "output_type": "stream",
     "text": [
      "Исходные данные: [98, 31, 94, 26, 88, 97, 14, 69, 16, 71]\n",
      "Бинарное дерево: <__main__.BinarySearchTree object at 0x7fd76c5bc070>\n",
      "Элемент 31 найден в дереве\n",
      "Бинарное дерево после удаления элемента 26 : <__main__.BinarySearchTree object at 0x7fd76c5bc070>\n",
      "Минимальный элемент в дереве: 14\n",
      "Максимальный элемент в дереве: 98\n"
     ]
    }
   ],
   "source": [
    "# Класс для создания узла бинарного дерева\n",
    "class Node:\n",
    "    def __init__(self, key):\n",
    "        self.left = None\n",
    "        self.right = None\n",
    "        self.val = key\n",
    "# Класс для создания бинарного дерева\n",
    "class BinarySearchTree:\n",
    "    def __init__(self):\n",
    "        self.root = None\n",
    "    # Метод для добавления узла в дерево\n",
    "    def insert(self, key):\n",
    "        if self.root is None:\n",
    "            self.root = Node(key)\n",
    "        else:\n",
    "            self._insert(key, self.root)\n",
    "    # Вспомогательный метод для рекурсивного добавления узла в дерево\n",
    "    def _insert(self, key, node):\n",
    "        if key < node.val:\n",
    "            if node.left is None:\n",
    "                node.left = Node(key)\n",
    "            else:\n",
    "                self._insert(key, node.left)\n",
    "        elif key > node.val:\n",
    "            if node.right is None:\n",
    "                node.right = Node(key)\n",
    "            else:\n",
    "                self._insert(key, node.right)\n",
    "    # Метод для поиска узла в дереве\n",
    "    def search(self, key):\n",
    "        return self._search(key, self.root)\n",
    "    # Вспомогательный метод для рекурсивного поиска узла в дереве\n",
    "    def _search(self, key, node):\n",
    "        if node is None or node.val == key:\n",
    "            return node\n",
    "        elif key < node.val:\n",
    "            return self._search(key, node.left)\n",
    "        else:\n",
    "            return self._search(key, node.right)\n",
    "    # Метод для удаления узла из дерева\n",
    "    def delete(self, key):\n",
    "        self.root = self._delete(key, self.root)\n",
    "    # Вспомогательный метод для рекурсивного удаления узла из дерева\n",
    "    def _delete(self, key, node):\n",
    "        if node is None:\n",
    "            return node\n",
    "        elif key < node.val:\n",
    "            node.left = self._delete(key, node.left)\n",
    "        elif key > node.val:\n",
    "            node.right = self._delete(key, node.right)\n",
    "        else:\n",
    "            if node.left is None:\n",
    "                return node.right\n",
    "            elif node.right is None:\n",
    "                return node.left\n",
    "            else:\n",
    "                min_node = self._find_min(node.right)\n",
    "                node.val = min_node.val\n",
    "                node.right = self._delete(min_node.val, node.right)\n",
    "        return node\n",
    "    # Метод для поиска минимального узла в дереве\n",
    "    def find_min(self):\n",
    "        return self._find_min(self.root)\n",
    "    # Вспомогательный метод для рекурсивного поиска минимального узла в дереве\n",
    "    def _find_min(self, node):\n",
    "        if node.left is None:\n",
    "            return node\n",
    "        else:\n",
    "            return self._find_min(node.left)\n",
    "    # Метод для поиска максимального узла в дереве\n",
    "    def find_max(self):\n",
    "        return self._find_max(self.root)\n",
    "    # Вспомогательный метод для рекурсивного поиска максимального узла в дереве\n",
    "    def _find_max(self, node):\n",
    "        if node.right is None:\n",
    "            return node\n",
    "        else:\n",
    "            return self._find_max(node.right)\n",
    "# Генерация начального набора случайных данных\n",
    "import random\n",
    "data = [random.randint(1, 100) for i in range(10)]\n",
    "print('Исходные данные:', data)\n",
    "# Создание бинарного дерева и добавление элементов\n",
    "bst = BinarySearchTree()\n",
    "for num in data:\n",
    "    bst.insert(num)\n",
    "print('Бинарное дерево:', bst)\n",
    "# Поиск элемента в дереве\n",
    "search_key = random.choice(data)\n",
    "result = bst.search(search_key)\n",
    "if result is not None:\n",
    "    print('Элемент', search_key, 'найден в дереве')\n",
    "else:\n",
    "    print('Элемент', search_key, 'не найден в дереве')\n",
    "# Удаление элемента из дерева\n",
    "delete_key = random.choice(data)\n",
    "bst.delete(delete_key)\n",
    "print('Бинарное дерево после удаления элемента', delete_key, ':', bst)\n",
    "# Поиск минимального и максимального элементов в дереве\n",
    "min_node = bst.find_min()\n",
    "print('Минимальный элемент в дереве:', min_node.val)\n",
    "max_node = bst.find_max()\n",
    "print('Максимальный элемент в дереве:', max_node.val)"
   ]
  },
  {
   "cell_type": "markdown",
   "metadata": {
    "id": "03jVDdRz0ymL"
   },
   "source": []
  },
  {
   "cell_type": "markdown",
   "metadata": {
    "id": "Io6G6zs3wtoU"
   },
   "source": [
    "Бинарный поиск"
   ]
  },
  {
   "cell_type": "code",
   "execution_count": 12,
   "metadata": {
    "colab": {
     "base_uri": "https://localhost:8080/"
    },
    "executionInfo": {
     "elapsed": 236,
     "status": "ok",
     "timestamp": 1681542960476,
     "user": {
      "displayName": "Sergey Simonov",
      "userId": "14094206399671235086"
     },
     "user_tz": -180
    },
    "id": "4Du2YvLHxUoV",
    "outputId": "b818e1df-bee0-4008-e49c-57e2854b9666"
   },
   "outputs": [
    {
     "name": "stdout",
     "output_type": "stream",
     "text": [
      "1\n",
      "None\n"
     ]
    }
   ],
   "source": [
    "# Функция бинарного поиска принимает на вход отсортированный массив и элемент, который нужно найти\n",
    "def binary_search(arr, item):\n",
    "    low = 0 # Нижняя граница для поиска устанавливается на первый элемент массива\n",
    "    high = len(arr) - 1 # Верхняя граница для поиска устанавливается на последний элемент массива\n",
    "    while low <= high: # Пока нижняя граница не станет больше верхней границы\n",
    "        mid = (low + high) // 2 # Находим средний элемент массива\n",
    "        if arr[mid] == item: # Если средний элемент равен искомому элементу, то возвращаем его индекс\n",
    "            return mid\n",
    "        elif arr[mid] > item: # Если средний элемент больше искомого, то ищем элемент в левой половине массива\n",
    "            high = mid - 1\n",
    "        else: # Иначе ищем элемент в правой половине массива\n",
    "            low = mid + 1\n",
    "    return None # Если элемент не найден, то возвращаем None\n",
    "# Пример использования функции\n",
    "my_list = [1, 3, 5, 7, 9]\n",
    "print(binary_search(my_list, 3)) # Выводит: 1 (так как элемент 3 находится на индексе 1 в списке)\n",
    "print(binary_search(my_list, -1)) # Выводит: None (так как элемент -1 не найден в списке)"
   ]
  },
  {
   "cell_type": "code",
   "execution_count": 13,
   "metadata": {
    "colab": {
     "base_uri": "https://localhost:8080/"
    },
    "executionInfo": {
     "elapsed": 28150,
     "status": "ok",
     "timestamp": 1681543100385,
     "user": {
      "displayName": "Sergey Simonov",
      "userId": "14094206399671235086"
     },
     "user_tz": -180
    },
    "id": "2IhBw0ZRxvV0",
    "outputId": "a73c84c9-68cf-4164-cf88-3367507e02cc"
   },
   "outputs": [
    {
     "name": "stdout",
     "output_type": "stream",
     "text": [
      "[70, 22, 82, 3, 81, 80, 38, 7, 95, 78]\n",
      "Введите искомый элемент: 12\n",
      "Элемент 12 не найден\n",
      "Введите новый элемент: 14\n",
      "[3, 7, 14, 22, 38, 70, 78, 80, 81, 82, 95]\n",
      "Введите элемент, который нужно удалить: 0\n",
      "Элемент 0 не найден в списке\n"
     ]
    }
   ],
   "source": [
    "# Функция генерации списка случайных элементов\n",
    "import random\n",
    "def generate_list(length, start, stop):\n",
    "    return [random.randint(start, stop) for _ in range(length)]\n",
    "# Пример использования функции\n",
    "my_list = generate_list(10, 0, 100) # Генерируем список из 10 случайных элементов от 0 до 100\n",
    "print(my_list)\n",
    "# Ввод искомого элемента\n",
    "item = int(input(\"Введите искомый элемент: \"))\n",
    "# Функция бинарного поиска принимает на вход отсортированный массив и элемент, который нужно найти\n",
    "def binary_search(arr, item):\n",
    "    low = 0 # Нижняя граница для поиска устанавливается на первый элемент массива\n",
    "    high = len(arr) - 1 # Верхняя граница для поиска устанавливается на последний элемент массива\n",
    "    while low <= high: # Пока нижняя граница не станет больше верхней границы\n",
    "        mid = (low + high) // 2 # Находим средний элемент массива\n",
    "        if arr[mid] == item: # Если средний элемент равен искомому элементу, то возвращаем его индекс\n",
    "            return mid\n",
    "        elif arr[mid] > item: # Если средний элемент больше искомого, то ищем элемент в левой половине массива\n",
    "            high = mid - 1\n",
    "        else: # Иначе ищем элемент в правой половине массива\n",
    "            low = mid + 1\n",
    "    return None # Если элемент не найден, то возвращаем None\n",
    "# Пример использования функции\n",
    "result = binary_search(my_list, item)\n",
    "if result is not None:\n",
    "    print(f\"Элемент {item} найден на индексе {result}\")\n",
    "else:\n",
    "    print(f\"Элемент {item} не найден\")\n",
    "# Добавление элемента в список\n",
    "new_item = int(input(\"Введите новый элемент: \"))\n",
    "my_list.append(new_item)\n",
    "my_list.sort()\n",
    "print(my_list)\n",
    "# Удаление элемента из списка\n",
    "remove_item = int(input(\"Введите элемент, который нужно удалить: \"))\n",
    "if remove_item in my_list:\n",
    "    my_list.remove(remove_item)\n",
    "    print(my_list)\n",
    "else:\n",
    "    print(f\"Элемент {remove_item} не найден в списке\")"
   ]
  },
  {
   "cell_type": "markdown",
   "metadata": {
    "id": "zjVDNTg6yjrJ"
   },
   "source": [
    "Фибоначчиев поиск"
   ]
  },
  {
   "cell_type": "markdown",
   "metadata": {
    "id": "IZWk1ZKX0zxS"
   },
   "source": [
    "Интерполяционный поиск"
   ]
  },
  {
   "cell_type": "code",
   "execution_count": 15,
   "metadata": {
    "colab": {
     "base_uri": "https://localhost:8080/"
    },
    "executionInfo": {
     "elapsed": 263,
     "status": "ok",
     "timestamp": 1681543884086,
     "user": {
      "displayName": "Sergey Simonov",
      "userId": "14094206399671235086"
     },
     "user_tz": -180
    },
    "id": "zY8INnAh02Ef",
    "outputId": "4c75619f-da07-42d5-8b56-a9623802962c"
   },
   "outputs": [
    {
     "name": "stdout",
     "output_type": "stream",
     "text": [
      "Элемент 16 найден на индексе 8\n"
     ]
    }
   ],
   "source": [
    "def interpolation_search(arr, item):\n",
    "    low = 0 # Нижняя граница для поиска устанавливается на первый элемент массива\n",
    "    high = len(arr) - 1 # Верхняя граница для поиска устанавливается на последний элемент массива\n",
    "    while low <= high and item >= arr[low] and item <= arr[high]: # Пока искомый элемент находится в интервале между нижней и верхней границами\n",
    "        pos = low + ((item - arr[low]) * (high - low) // (arr[high] - arr[low])) # Определяем приблизительную позицию искомого элемента с помощью интерполяции\n",
    "        if arr[pos] == item: # Если элемент на найденной позиции равен искомому элементу, то возвращаем его индекс\n",
    "            return pos\n",
    "        elif arr[pos] < item: # Если элемент на найденной позиции меньше искомого, то ищем элемент только в правой половине массива\n",
    "            low = pos + 1\n",
    "        else: # Иначе ищем элемент только в левой половине массива\n",
    "            high = pos - 1\n",
    "    return None # Если элемент не найден, то возвращаем None\n",
    "# Пример использования функции\n",
    "arr = [1, 2, 4, 6, 8, 10, 12, 14, 16, 18, 20]\n",
    "item = 16\n",
    "result = interpolation_search(arr, item)\n",
    "if result is not None:\n",
    "    print(f\"Элемент {item} найден на индексе {result}\")\n",
    "else:\n",
    "    print(f\"Элемент {item} не найден\")"
   ]
  }
 ],
 "metadata": {
  "colab": {
   "authorship_tag": "ABX9TyMWhZJaFyGwS2iSDSVKsy8F",
   "provenance": []
  },
  "kernelspec": {
   "display_name": "Python 3",
   "name": "python3"
  },
  "language_info": {
   "name": "python"
  }
 },
 "nbformat": 4,
 "nbformat_minor": 0
}
