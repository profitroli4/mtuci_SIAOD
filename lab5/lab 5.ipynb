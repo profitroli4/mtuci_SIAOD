{
 "cells": [
  {
   "cell_type": "markdown",
   "id": "db4b50f0",
   "metadata": {
    "id": "db4b50f0"
   },
   "source": [
    "# Лабораторная работа №5\n",
    "## Выполнил студент группы Курмашев Данил БПИ2303"
   ]
  },
  {
   "cell_type": "markdown",
   "id": "annual-symbol",
   "metadata": {
    "id": "annual-symbol"
   },
   "source": [
    "### Оглавление\n",
    "1. [Задание 1](#Задание-№1)\n",
    "2. [Задание 2](#Задание-№2)"
   ]
  },
  {
   "cell_type": "markdown",
   "id": "independent-spirit",
   "metadata": {
    "id": "independent-spirit"
   },
   "source": [
    "> Дополнительные модули, использованные при выполнение лабораторной"
   ]
  },
  {
   "cell_type": "code",
   "execution_count": 3,
   "id": "4839be2b",
   "metadata": {
    "id": "4839be2b"
   },
   "outputs": [],
   "source": [
    "import time\n",
    "import matplotlib.pyplot as plt\n",
    "from collections import defaultdict\n",
    "from collections import deque"
   ]
  },
  {
   "cell_type": "markdown",
   "id": "inclusive-motorcycle",
   "metadata": {
    "id": "inclusive-motorcycle"
   },
   "source": [
    "### Задание №1\n",
    "Реализовать методы поиска подстроки в строке. Добавить возможность ввода строки и подстроки с клавиатуры. Предусмотреть возможность существования пробела. Реализовать возможность выбора опции чувствительности или нечувствительности к регистру. Оценить время работы каждого алгоритма поиска и сравнить его со временем работы стандартной функции поиска, используемой в выбранном языке программирования."
   ]
  },
  {
   "cell_type": "code",
   "execution_count": null,
   "id": "presidential-level",
   "metadata": {
    "id": "presidential-level"
   },
   "outputs": [
    {
     "data": {
      "image/png": "[encoded data removed]",
      "text/plain": [
       "<Figure size 640x480 with 1 Axes>"
      ]
     },
     "metadata": {},
     "output_type": "display_data"
    }
   ],
   "source": [
    "def get_input():\n",
    "    text = input(\"Введите строку: \")\n",
    "    pattern = input(\"Введите подстроку: \")\n",
    "    case_sensitive = input(\"Учитывать регистр? (y/n): \").strip().lower() == 'y'\n",
    "    if not case_sensitive:\n",
    "        text = text.lower()\n",
    "        pattern = pattern.lower()\n",
    "    return text, pattern\n",
    "\n",
    "\n",
    "def kmp_search(text, pattern):\n",
    "    \"\"\"Алгоритм Кнута-Морриса-Пратта\"\"\"\n",
    "    def compute_lps(pattern):\n",
    "        lps = [0] * len(pattern)\n",
    "        length = 0\n",
    "        i = 1\n",
    "        while i < len(pattern):\n",
    "            if pattern[i] == pattern[length]:\n",
    "                length += 1\n",
    "                lps[i] = length\n",
    "                i += 1\n",
    "            else:\n",
    "                if length != 0:\n",
    "                    length = lps[length - 1]\n",
    "                else:\n",
    "                    lps[i] = 0\n",
    "                    i += 1\n",
    "        return lps\n",
    "    \n",
    "    lps = compute_lps(pattern)\n",
    "    i = j = 0\n",
    "    matches = []\n",
    "    while i < len(text):\n",
    "        if pattern[j] == text[i]:\n",
    "            i += 1\n",
    "            j += 1\n",
    "        if j == len(pattern):\n",
    "            matches.append(i - j)\n",
    "            j = lps[j - 1]\n",
    "        elif i < len(text) and pattern[j] != text[i]:\n",
    "            if j != 0:\n",
    "                j = lps[j - 1]\n",
    "            else:\n",
    "                i += 1\n",
    "    return matches\n",
    "\n",
    "\n",
    "def boyer_moore_search(text, pattern):\n",
    "    \"\"\"Упрощенный алгоритм Бойера-Мура\"\"\"\n",
    "    def bad_character_table(pattern):\n",
    "        bad_char = defaultdict(lambda: -1)\n",
    "        for i in range(len(pattern)):\n",
    "            bad_char[pattern[i]] = i\n",
    "        return bad_char\n",
    "    \n",
    "    bad_char = bad_character_table(pattern)\n",
    "    m, n = len(pattern), len(text)\n",
    "    i = 0\n",
    "    matches = []\n",
    "    while i <= n - m:\n",
    "        j = m - 1\n",
    "        while j >= 0 and pattern[j] == text[i + j]:\n",
    "            j -= 1\n",
    "        if j < 0:\n",
    "            matches.append(i)\n",
    "            i += (m - bad_char[text[i + m]] if i + m < n else 1)\n",
    "        else:\n",
    "            i += max(1, j - bad_char[text[i + j]])\n",
    "    return matches\n",
    "\n",
    "\n",
    "def measure_time(algorithm, text, pattern):\n",
    "    start = time.time()\n",
    "    algorithm(text, pattern)\n",
    "    return time.time() - start\n",
    "\n",
    "\n",
    "def compare_algorithms(text, pattern):\n",
    "    kmp_time = measure_time(kmp_search, text, pattern)\n",
    "    bm_time = measure_time(boyer_moore_search, text, pattern)\n",
    "    builtin_time = measure_time(lambda t, p: [t.find(p)], text, pattern)\n",
    "    \n",
    "    labels = [\"КМП\", \"Бойер-Мур\", \"str.find\"]\n",
    "    times = [kmp_time, bm_time, builtin_time]\n",
    "    \n",
    "    plt.bar(labels, times, color=['blue', 'green', 'red'])\n",
    "    plt.xlabel(\"Алгоритмы\")\n",
    "    plt.ylabel(\"Время выполнения (сек)\")\n",
    "    plt.title(\"Сравнение алгоритмов поиска подстроки\")\n",
    "    plt.show()\n",
    "\n",
    "\n",
    "if __name__ == \"__main__\":\n",
    "    text, pattern = get_input()\n",
    "    compare_algorithms(text, pattern)\n"
   ]
  },
  {
   "cell_type": "markdown",
   "id": "hybrid-memorial",
   "metadata": {
    "id": "hybrid-memorial"
   },
   "source": [
    "### Задание №2\n",
    "Написать программу, определяющую, является ли данное\n",
    "расположение «решаемым», то есть можно ли из него за конечное число\n",
    "шагов перейти к правильному. Если это возможно, то необходимо найти хотя\n",
    "бы одно решение - последовательность движений, после которой числа будут\n",
    "расположены в правильном порядке.\n",
    "#### Входные данные: массив чисел, представляющий собой расстановку в\n",
    "Порядке «слева направо, сверху вниз». Число 0 обозначает пустое поле.\n",
    "Например, массив [1, 2, 3, 4, 5, 6, 7, 8, 9, 10, 11, 12, 13, 14, 15, 0] представляет\n",
    "собой «решенную» позицию элементов.\n",
    "#### Выходные данные: если решения нет, то функция должна вернуть\n",
    "Пустой массив []. Если решение есть, то необходимо представить решение —\n",
    "для каждого шага записывается номер передвигаемого на данном шаге\n",
    "элемента. "
   ]
  },
  {
   "cell_type": "code",
   "execution_count": 4,
   "id": "eleven-generic",
   "metadata": {
    "id": "eleven-generic"
   },
   "outputs": [
    {
     "name": "stdout",
     "output_type": "stream",
     "text": [
      "[15]\n"
     ]
    }
   ],
   "source": [
    "def is_solvable(puzzle):\n",
    "    inv_count = 0\n",
    "    puzzle = [num for num in puzzle if num != 0]\n",
    "    for i in range(len(puzzle)):\n",
    "        for j in range(i + 1, len(puzzle)):\n",
    "            if puzzle[i] > puzzle[j]:\n",
    "                inv_count += 1\n",
    "    return inv_count % 2 == 0\n",
    "\n",
    "def get_neighbors(state):\n",
    "    moves = []\n",
    "    zero_index = state.index(0)\n",
    "    row, col = divmod(zero_index, 4)\n",
    "    directions = {(-1, 0): \"up\", (1, 0): \"down\", (0, -1): \"left\", (0, 1): \"right\"}\n",
    "    \n",
    "    for (dr, dc), move in directions.items():\n",
    "        new_row, new_col = row + dr, col + dc\n",
    "        if 0 <= new_row < 4 and 0 <= new_col < 4:\n",
    "            new_index = new_row * 4 + new_col\n",
    "            new_state = state[:]\n",
    "            new_state[zero_index], new_state[new_index] = new_state[new_index], new_state[zero_index]\n",
    "            moves.append((new_state, state[new_index]))\n",
    "    \n",
    "    return moves\n",
    "\n",
    "def solve_puzzle(start_state):\n",
    "    goal_state = [1, 2, 3, 4, 5, 6, 7, 8, 9, 10, 11, 12, 13, 14, 15, 0]\n",
    "    if start_state == goal_state:\n",
    "        return []\n",
    "    \n",
    "    if not is_solvable(start_state):\n",
    "        return []\n",
    "    \n",
    "    queue = deque([(start_state, [])])\n",
    "    visited = set()\n",
    "    visited.add(tuple(start_state))\n",
    "    \n",
    "    while queue:\n",
    "        current_state, path = queue.popleft()\n",
    "        for neighbor, moved_tile in get_neighbors(current_state):\n",
    "            if tuple(neighbor) not in visited:\n",
    "                if neighbor == goal_state:\n",
    "                    return path + [moved_tile]\n",
    "                queue.append((neighbor, path + [moved_tile]))\n",
    "                visited.add(tuple(neighbor))\n",
    "    \n",
    "    return []\n",
    "\n",
    "\n",
    "puzzle = [1, 2, 3, 4, 5, 6, 7, 8, 9, 10, 11, 12, 13, 14, 0, 15]\n",
    "print(solve_puzzle(puzzle))\n"
   ]
  }
 ],
 "metadata": {
  "colab": {
   "provenance": []
  },
  "kernelspec": {
   "display_name": "Python 3",
   "language": "python",
   "name": "python3"
  },
  "language_info": {
   "codemirror_mode": {
    "name": "ipython",
    "version": 3
   },
   "file_extension": ".py",
   "mimetype": "text/x-python",
   "name": "python",
   "nbconvert_exporter": "python",
   "pygments_lexer": "ipython3",
   "version": "3.12.9"
  }
 },
 "nbformat": 4,
 "nbformat_minor": 5
}
